{
 "cells": [
  {
   "cell_type": "code",
   "execution_count": 2,
   "id": "dde4e5fc",
   "metadata": {},
   "outputs": [],
   "source": [
    "##### Q1\n",
    "\n",
    "#What will the output be of ((500//7) % 5) ** 3?"
   ]
  },
  {
   "cell_type": "code",
   "execution_count": 4,
   "id": "e44ac9a7",
   "metadata": {},
   "outputs": [
    {
     "data": {
      "text/plain": [
       "1"
      ]
     },
     "execution_count": 4,
     "metadata": {},
     "output_type": "execute_result"
    }
   ],
   "source": [
    "((500//7) % 5) ** 3"
   ]
  },
  {
   "cell_type": "code",
   "execution_count": 5,
   "id": "6da6daef",
   "metadata": {},
   "outputs": [],
   "source": [
    "##### Q2\n",
    "\n",
    "#How will you extract ‘love’ from the string S = “I love Python”? (More than one option may be correct.)"
   ]
  },
  {
   "cell_type": "code",
   "execution_count": 14,
   "id": "2bc7dfd7",
   "metadata": {},
   "outputs": [
    {
     "data": {
      "text/plain": [
       "'love'"
      ]
     },
     "execution_count": 14,
     "metadata": {},
     "output_type": "execute_result"
    }
   ],
   "source": [
    "S = \"I love Python\"\n",
    "S[2:6]"
   ]
  },
  {
   "cell_type": "code",
   "execution_count": 20,
   "id": "56e11ec6",
   "metadata": {},
   "outputs": [
    {
     "data": {
      "text/plain": [
       "'love'"
      ]
     },
     "execution_count": 20,
     "metadata": {},
     "output_type": "execute_result"
    }
   ],
   "source": [
    "S[-11:-7]"
   ]
  },
  {
   "cell_type": "code",
   "execution_count": 23,
   "id": "3f8958dd",
   "metadata": {},
   "outputs": [],
   "source": [
    "##### Q3\n",
    "\n",
    "## What will the output of 3 * 3 ** 3 be?"
   ]
  },
  {
   "cell_type": "code",
   "execution_count": 25,
   "id": "c63b0128",
   "metadata": {},
   "outputs": [
    {
     "data": {
      "text/plain": [
       "81"
      ]
     },
     "execution_count": 25,
     "metadata": {},
     "output_type": "execute_result"
    }
   ],
   "source": [
    "3 * 3 ** 3"
   ]
  },
  {
   "cell_type": "code",
   "execution_count": 26,
   "id": "4f277cbd",
   "metadata": {},
   "outputs": [],
   "source": [
    "#Q4 If you have a tuple T = (3, 5, 7, 11), what will the output of T.append(9) be?"
   ]
  },
  {
   "cell_type": "code",
   "execution_count": 29,
   "id": "7c7c1fa1",
   "metadata": {},
   "outputs": [
    {
     "data": {
      "text/plain": [
       "[3, 5, 7, 11, 9]"
      ]
     },
     "execution_count": 29,
     "metadata": {},
     "output_type": "execute_result"
    }
   ],
   "source": [
    "T = (3, 5, 7, 11)\n",
    "List1=list(T)\n",
    "#Output will be error,we can use append with list not a tuple.(bcoz if immutable nature)\n",
    "List1.append(9)\n",
    "List1"
   ]
  },
  {
   "cell_type": "code",
   "execution_count": 33,
   "id": "a37929a3",
   "metadata": {},
   "outputs": [],
   "source": [
    "\n",
    "# Q5 What will the output of the following program be?\n",
    "\n",
    "#L1 = ['Vikas', 'Akshay', 'Sanskar', 'Mahima']\n",
    "\n",
    "#print(L1[1][-1])\n"
   ]
  },
  {
   "cell_type": "code",
   "execution_count": 40,
   "id": "e61470de",
   "metadata": {},
   "outputs": [
    {
     "name": "stdout",
     "output_type": "stream",
     "text": [
      "y\n",
      "y\n"
     ]
    }
   ],
   "source": [
    "L1 = ['Vikas', 'Akshay', 'Sanskar', 'Mahima']\n",
    "print(L1[1][-1])\n",
    "#or print[l1[1][5]]\n",
    "print(L1[1][5])"
   ]
  },
  {
   "cell_type": "code",
   "execution_count": 41,
   "id": "d8a94472",
   "metadata": {},
   "outputs": [],
   "source": [
    "##### Q6\n",
    "\n",
    "#What will be the output ?\n",
    "\n",
    "#l = [32, 34, 12, 27, 33]\n",
    "\n",
    "#l.append([14, 19])\n",
    "\n",
    "#print(len(l))"
   ]
  },
  {
   "cell_type": "code",
   "execution_count": 43,
   "id": "44c1133c",
   "metadata": {},
   "outputs": [
    {
     "name": "stdout",
     "output_type": "stream",
     "text": [
      "6\n"
     ]
    }
   ],
   "source": [
    "#ouput will be = 6\n",
    "l = [32, 34, 12, 27, 33]\n",
    "l.append([14, 19])\n",
    "print(len(l))"
   ]
  }
 ],
 "metadata": {
  "kernelspec": {
   "display_name": "Python 3 (ipykernel)",
   "language": "python",
   "name": "python3"
  },
  "language_info": {
   "codemirror_mode": {
    "name": "ipython",
    "version": 3
   },
   "file_extension": ".py",
   "mimetype": "text/x-python",
   "name": "python",
   "nbconvert_exporter": "python",
   "pygments_lexer": "ipython3",
   "version": "3.9.7"
  }
 },
 "nbformat": 4,
 "nbformat_minor": 5
}
