{
 "cells": [
  {
   "cell_type": "code",
   "execution_count": 37,
   "id": "41f3308a",
   "metadata": {},
   "outputs": [],
   "source": [
    "# employee data with key as id of the employee and values as age of the employee\n",
    "Employee_data ={101: 43, 102: 25, 103: 43, 104: 31, 105: 26, 106: 28, 107: 29, 108: 43, 109: 25, 110: 22, 111: 22, 112: 25, 113: 30, 115: 45, 116: 23, 117: 29, 118: 28, 119: 30, 120: 28, 121: 42, 122: 39, 123: 29, 124: 42, 125: 43, 126: 42, 127: 40, 128: 27, 129: 23, 130: 30, 131: 37, 132: 20, 133: 36, 134: 27, 135: 27, 136: 22, 137: 28, 138: 23, 139: 45, 140: 39, 141: 29, 142: 33, 143: 39, 145: 34, 146: 26, 147: 30, 148: 38, 149: 29, 150: 24, 151: 28, 152: 34, 153: 42, 154: 29, 155: 23, 156: 31, 158: 25, 160: 45, 161: 42, 162: 27, 163: 24, 164: 20, 166: 24, 167: 28, 168: 20, 169: 33, 170: 34, 171: 37, 172: 45, 173: 35, 174: 23, 175: 44, 176: 27, 177: 30, 178: 26, 179: 27} "
   ]
  },
  {
   "cell_type": "code",
   "execution_count": 2,
   "id": "89c44fd5",
   "metadata": {},
   "outputs": [],
   "source": [
    "#### Identify the senior most employees age"
   ]
  },
  {
   "cell_type": "code",
   "execution_count": 32,
   "id": "572c52a5",
   "metadata": {},
   "outputs": [
    {
     "name": "stdout",
     "output_type": "stream",
     "text": [
      "the senior most employee's age is  45\n"
     ]
    }
   ],
   "source": [
    "c=list(Employee_data.values())\n",
    "\n",
    "print(\"The senior most employee's age is \", max(c))"
   ]
  },
  {
   "cell_type": "code",
   "execution_count": 33,
   "id": "fe00cc48",
   "metadata": {},
   "outputs": [],
   "source": [
    "#### Identify the age of the employee with employee id 159 [ If the employee isn't present return NA]"
   ]
  },
  {
   "cell_type": "code",
   "execution_count": 49,
   "id": "687a85b5",
   "metadata": {},
   "outputs": [
    {
     "name": "stdout",
     "output_type": "stream",
     "text": [
      "NA\n"
     ]
    }
   ],
   "source": [
    "n=159\n",
    "if n in list(Employee_data.keys()):\n",
    "    print(Employee_data.get(n))\n",
    "else:\n",
    "        print(\"NA\")  "
   ]
  },
  {
   "cell_type": "code",
   "execution_count": 58,
   "id": "fd1b41af",
   "metadata": {},
   "outputs": [],
   "source": [
    "#### Count the total number of employee in the organization"
   ]
  },
  {
   "cell_type": "code",
   "execution_count": 64,
   "id": "3c59817a",
   "metadata": {},
   "outputs": [
    {
     "name": "stdout",
     "output_type": "stream",
     "text": [
      "The total number of employee in the organization: 74\n"
     ]
    }
   ],
   "source": [
    "print('The total number of employee in the organization:', len(list(Employee_data.keys())))"
   ]
  },
  {
   "cell_type": "code",
   "execution_count": 65,
   "id": "ba2300da",
   "metadata": {},
   "outputs": [],
   "source": [
    "#### Calculate the mean age of the employees"
   ]
  },
  {
   "cell_type": "code",
   "execution_count": 71,
   "id": "c402f5b4",
   "metadata": {},
   "outputs": [
    {
     "data": {
      "text/plain": [
       "31.364864864864863"
      ]
     },
     "execution_count": 71,
     "metadata": {},
     "output_type": "execute_result"
    }
   ],
   "source": [
    "mean=sum(c)/74\n",
    "mean"
   ]
  },
  {
   "cell_type": "code",
   "execution_count": 73,
   "id": "64facf17",
   "metadata": {},
   "outputs": [],
   "source": [
    "#### Perform the following two tasks and then calculate the updated mean age of the employees\n",
    "#Task1 Update the ages of employee id - 104,140, and 164 as 27 <br>\n",
    "#Task2 Remove the employ with employee id - 143 <br>"
   ]
  },
  {
   "cell_type": "code",
   "execution_count": 119,
   "id": "ccde6269",
   "metadata": {},
   "outputs": [],
   "source": [
    "#TASK1 : \n",
    "Employee_data.update({104:27,140:27,164:27})\n",
    "#TASK2: \n",
    "Employee_data.pop(143)\n"
   ]
  },
  {
   "cell_type": "code",
   "execution_count": 118,
   "id": "d8fb4e12",
   "metadata": {},
   "outputs": [
    {
     "name": "stdout",
     "output_type": "stream",
     "text": [
      "updated mean age : 30.716216216216218\n"
     ]
    }
   ],
   "source": [
    "newmean=sum(Employee_data.values())/74\n",
    "print(\"updated mean age :\",newmean)"
   ]
  },
  {
   "cell_type": "code",
   "execution_count": null,
   "id": "9615ee88",
   "metadata": {},
   "outputs": [],
   "source": []
  }
 ],
 "metadata": {
  "kernelspec": {
   "display_name": "Python 3 (ipykernel)",
   "language": "python",
   "name": "python3"
  },
  "language_info": {
   "codemirror_mode": {
    "name": "ipython",
    "version": 3
   },
   "file_extension": ".py",
   "mimetype": "text/x-python",
   "name": "python",
   "nbconvert_exporter": "python",
   "pygments_lexer": "ipython3",
   "version": "3.9.7"
  }
 },
 "nbformat": 4,
 "nbformat_minor": 5
}
