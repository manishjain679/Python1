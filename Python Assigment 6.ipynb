{
 "cells": [
  {
   "cell_type": "code",
   "execution_count": 1,
   "id": "b5921078",
   "metadata": {},
   "outputs": [],
   "source": [
    "#1. Python program to add two Matrices"
   ]
  },
  {
   "cell_type": "code",
   "execution_count": 2,
   "id": "cdb8ea6c",
   "metadata": {},
   "outputs": [],
   "source": [
    "X = [[12,7,3],\n",
    "    [4 ,5,6,7],\n",
    "    [7 ,8,9]]\n",
    "Y = [[5,8,1],\n",
    "    [6,7,3,2],\n",
    "    [4,5,9]]"
   ]
  },
  {
   "cell_type": "code",
   "execution_count": 3,
   "id": "dec339c7",
   "metadata": {},
   "outputs": [
    {
     "name": "stdout",
     "output_type": "stream",
     "text": [
      "[17, 15, 4]\n",
      "[10, 12, 9, 9]\n",
      "[11, 13, 18]\n"
     ]
    }
   ],
   "source": [
    "result = [[X[i][j] + Y[i][j]  for j in range(len(X[i]))] for i in range(len(X))]\n",
    "\n",
    "for r in result:\n",
    "   print(r)"
   ]
  },
  {
   "cell_type": "code",
   "execution_count": 4,
   "id": "13a296ac",
   "metadata": {},
   "outputs": [
    {
     "name": "stdout",
     "output_type": "stream",
     "text": [
      "[[17 15  4]\n",
      " [10 12  9]\n",
      " [11 13 18]]\n"
     ]
    }
   ],
   "source": [
    "import numpy as np\n",
    "\n",
    "A = np.array([[12, 7, 3], [4, 5, 6], [7, 8, 9]])\n",
    "B = np.array([[5, 8, 1], [6, 7, 3], [4, 5, 9]])\n",
    "C = A+B\n",
    "print(C)"
   ]
  },
  {
   "cell_type": "code",
   "execution_count": 40,
   "id": "b74579f0",
   "metadata": {},
   "outputs": [],
   "source": [
    "#2. Python program to multiply two matrices"
   ]
  },
  {
   "cell_type": "code",
   "execution_count": 5,
   "id": "c2f59fb0",
   "metadata": {},
   "outputs": [
    {
     "name": "stdout",
     "output_type": "stream",
     "text": [
      "[[114, 160, 60, 27], [74, 97, 73, 14], [119, 157, 112, 23]]\n"
     ]
    }
   ],
   "source": [
    "X = [[12,7,3],\n",
    "    [4 ,5,6],\n",
    "    [7 ,8,9]]\n",
    "\n",
    "Y = [[5,8,1,2],\n",
    "    [6,7,3,0],\n",
    "    [4,5,9,1]]\n",
    "\n",
    "\n",
    "result = [[sum(a*b for a,b in zip(X_row,Y_col)) for Y_col in zip(*Y)] for X_row in X]\n",
    "print(result)"
   ]
  },
  {
   "cell_type": "code",
   "execution_count": 60,
   "id": "df5bc9c8",
   "metadata": {},
   "outputs": [],
   "source": [
    "#3. Python program for Matrix Product"
   ]
  },
  {
   "cell_type": "code",
   "execution_count": 6,
   "id": "4b23b6a1",
   "metadata": {},
   "outputs": [
    {
     "name": "stdout",
     "output_type": "stream",
     "text": [
      "[114 160  60  27]\n",
      "[74 97 73 14]\n",
      "[119 157 112  23]\n"
     ]
    }
   ],
   "source": [
    "import numpy as np\n",
    "\n",
    "A = [[12, 7, 3], [4, 5, 6], [7, 8, 9]]\n",
    "B = [[5, 8, 1, 2], [6, 7, 3, 0], [4, 5, 9, 1]]\n",
    "\n",
    "result= [[0,0,0,0], [0,0,0,0], [0,0,0,0]]\n",
    "result= np.dot(A,B)\n",
    "\n",
    "for p in result:\n",
    "    print(p)"
   ]
  },
  {
   "cell_type": "code",
   "execution_count": 63,
   "id": "af15b341",
   "metadata": {},
   "outputs": [],
   "source": [
    "#4. Adding and Subtracting Matrices in Python"
   ]
  },
  {
   "cell_type": "code",
   "execution_count": 7,
   "id": "aba5e0c2",
   "metadata": {},
   "outputs": [
    {
     "name": "stdout",
     "output_type": "stream",
     "text": [
      "[[ 5  7]\n",
      " [ 9 11]]\n"
     ]
    }
   ],
   "source": [
    "import numpy as np\n",
    "  \n",
    "A = np.array([[1, 2], [3, 4]])\n",
    "B = np.array([[4, 5], [6, 7]])\n",
    "print(np.add(A, B))"
   ]
  },
  {
   "cell_type": "code",
   "execution_count": 8,
   "id": "54fddd08",
   "metadata": {},
   "outputs": [
    {
     "name": "stdout",
     "output_type": "stream",
     "text": [
      "Subtraction of two matrix\n",
      "[[3 3]\n",
      " [3 3]]\n"
     ]
    }
   ],
   "source": [
    "import numpy as np\n",
    "  \n",
    "A = np.array([[1, 2], [3, 4]])\n",
    "B = np.array([[4, 5], [6, 7]])\n",
    "print(\"Subtraction of two matrix\")\n",
    "print(np.subtract(B, A))"
   ]
  },
  {
   "cell_type": "code",
   "execution_count": 71,
   "id": "39a97783",
   "metadata": {},
   "outputs": [],
   "source": [
    "#5. Transpose a matrix in Single line in Python"
   ]
  },
  {
   "cell_type": "code",
   "execution_count": 9,
   "id": "0fdf9feb",
   "metadata": {},
   "outputs": [
    {
     "data": {
      "text/plain": [
       "array([[1, 3],\n",
       "       [2, 4]])"
      ]
     },
     "execution_count": 9,
     "metadata": {},
     "output_type": "execute_result"
    }
   ],
   "source": [
    "A.T"
   ]
  },
  {
   "cell_type": "code",
   "execution_count": 86,
   "id": "a8b68ed5",
   "metadata": {},
   "outputs": [],
   "source": [
    "#6. Python | Matrix creation of n*n"
   ]
  },
  {
   "cell_type": "code",
   "execution_count": 10,
   "id": "e4b6a496",
   "metadata": {},
   "outputs": [
    {
     "name": "stdout",
     "output_type": "stream",
     "text": [
      "Enter a n for n*n matrix6\n"
     ]
    },
    {
     "data": {
      "text/plain": [
       "array([[31,  0, 35, 30, 77, 42],\n",
       "       [27, 98, 97, 95, 55, 48],\n",
       "       [39, 21, 50, 16, 61, 21],\n",
       "       [28,  7, 93, 86,  2, 20],\n",
       "       [94, 17, 64, 36, 76, 68],\n",
       "       [96,  2, 92, 35, 10, 98]])"
      ]
     },
     "execution_count": 10,
     "metadata": {},
     "output_type": "execute_result"
    }
   ],
   "source": [
    "n=int(input(\"Enter a n for n*n matrix\"))\n",
    "import numpy as np  \n",
    "a = np.random.randint(0, 100, (n, n))\n",
    "a\n"
   ]
  },
  {
   "cell_type": "code",
   "execution_count": null,
   "id": "fbef2ea7",
   "metadata": {},
   "outputs": [],
   "source": [
    "#7. Python | Get Kth Column of Matrix"
   ]
  },
  {
   "cell_type": "code",
   "execution_count": 11,
   "id": "0aa5a32f",
   "metadata": {},
   "outputs": [
    {
     "name": "stdout",
     "output_type": "stream",
     "text": [
      "Enter a n for  Kth Column of Matrix2\n"
     ]
    },
    {
     "data": {
      "text/plain": [
       "[6, 10, 5]"
      ]
     },
     "execution_count": 11,
     "metadata": {},
     "output_type": "execute_result"
    }
   ],
   "source": [
    "n=int(input(\"Enter a n for  Kth Column of Matrix\"))\n",
    "a = [[4, 5, 6], [8, 1, 10], [7, 12, 5]]\n",
    "k=n\n",
    "c=[i[k] for i in a]\n",
    "c"
   ]
  },
  {
   "cell_type": "code",
   "execution_count": 4,
   "id": "5c62615b",
   "metadata": {},
   "outputs": [],
   "source": [
    "#8. Python – Vertical Concatenation in Matrixa = np.array([[1, 2], [3, 4]])"
   ]
  },
  {
   "cell_type": "code",
   "execution_count": 12,
   "id": "a3b3c6b2",
   "metadata": {},
   "outputs": [
    {
     "data": {
      "text/plain": [
       "array([1, 2, 3, 4, 5, 6, 2, 2])"
      ]
     },
     "execution_count": 12,
     "metadata": {},
     "output_type": "execute_result"
    }
   ],
   "source": [
    "a = np.array([[1, 2], [3, 4]])\n",
    "b = np.array([[5, 6],[2,2]])\n",
    "np.concatenate((a, b), axis=None)"
   ]
  },
  {
   "cell_type": "code",
   "execution_count": 15,
   "id": "7e7e62e5",
   "metadata": {},
   "outputs": [
    {
     "data": {
      "text/plain": [
       "array([[1, 2, 5, 6],\n",
       "       [3, 4, 2, 2]])"
      ]
     },
     "execution_count": 15,
     "metadata": {},
     "output_type": "execute_result"
    }
   ],
   "source": [
    "np.concatenate((a, b), axis=1)"
   ]
  },
  {
   "cell_type": "code",
   "execution_count": 14,
   "id": "0a5a3251",
   "metadata": {},
   "outputs": [
    {
     "data": {
      "text/plain": [
       "array([[1, 2],\n",
       "       [3, 4],\n",
       "       [5, 6],\n",
       "       [2, 2]])"
      ]
     },
     "execution_count": 14,
     "metadata": {},
     "output_type": "execute_result"
    }
   ],
   "source": [
    "np.concatenate((a, b), axis=0)"
   ]
  },
  {
   "cell_type": "code",
   "execution_count": 15,
   "id": "05245ed6",
   "metadata": {},
   "outputs": [],
   "source": [
    "#9. Python program to check if a string is palindrome or not"
   ]
  },
  {
   "cell_type": "code",
   "execution_count": 22,
   "id": "3000ce78",
   "metadata": {},
   "outputs": [
    {
     "name": "stdout",
     "output_type": "stream",
     "text": [
      "enter a word\n",
      "word is a palindrome\n"
     ]
    }
   ],
   "source": [
    "a=str(input(\"enter a word\"))\n",
    "if a==a[::-1]:\n",
    "    print(\"word is a palindrome\")\n",
    "else:\n",
    "    print(\"word is not a palindrome\")   \n",
    "    "
   ]
  },
  {
   "cell_type": "code",
   "execution_count": 43,
   "id": "3f6012a6",
   "metadata": {},
   "outputs": [],
   "source": [
    "#10. Python program to check whether the string is Symmetrical or Palindrome"
   ]
  },
  {
   "cell_type": "code",
   "execution_count": 8,
   "id": "903ad40c",
   "metadata": {},
   "outputs": [
    {
     "name": "stdout",
     "output_type": "stream",
     "text": [
      "enter a wordnoonnoon\n",
      "word is a palindrome\n",
      "word is Symmetrical\n"
     ]
    }
   ],
   "source": [
    "a=str(input(\"enter a word\"))\n",
    "b=a[0:int(len(a)/2)]\n",
    "c=a[int(len(a)/2):]\n",
    "if a==a[::-1]:\n",
    "    print(\"word is a palindrome\")\n",
    "else:\n",
    "    print(\"word is not a palindrome\")\n",
    "    \n",
    "if  b==c:\n",
    "    print(\"word is Symmetrical\")\n",
    "else:\n",
    "     print(\"word is not  Symmetrical\")   "
   ]
  },
  {
   "cell_type": "code",
   "execution_count": null,
   "id": "dc0911f0",
   "metadata": {},
   "outputs": [],
   "source": []
  }
 ],
 "metadata": {
  "kernelspec": {
   "display_name": "Python 3 (ipykernel)",
   "language": "python",
   "name": "python3"
  },
  "language_info": {
   "codemirror_mode": {
    "name": "ipython",
    "version": 3
   },
   "file_extension": ".py",
   "mimetype": "text/x-python",
   "name": "python",
   "nbconvert_exporter": "python",
   "pygments_lexer": "ipython3",
   "version": "3.9.7"
  }
 },
 "nbformat": 4,
 "nbformat_minor": 5
}
