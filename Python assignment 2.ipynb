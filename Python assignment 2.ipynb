{
 "cells": [
  {
   "cell_type": "code",
   "execution_count": 1,
   "id": "cb07eb6f",
   "metadata": {},
   "outputs": [],
   "source": [
    "#1. Python Program for n-th Fibonacci number"
   ]
  },
  {
   "cell_type": "code",
   "execution_count": 2,
   "id": "60996436",
   "metadata": {},
   "outputs": [
    {
     "name": "stdout",
     "output_type": "stream",
     "text": [
      "How many terms? 20\n",
      "Fibonacci sequence:\n",
      "0\n",
      "1\n",
      "1\n",
      "2\n",
      "3\n",
      "5\n",
      "8\n",
      "13\n",
      "21\n",
      "34\n",
      "55\n",
      "89\n",
      "144\n",
      "233\n",
      "377\n",
      "610\n",
      "987\n",
      "1597\n",
      "2584\n",
      "4181\n"
     ]
    }
   ],
   "source": [
    "c = int(input(\"How many terms? \"))\n",
    "a, b = 0, 1\n",
    "n = 0\n",
    "if c <= 0:\n",
    "   print(\"Please enter a positive integer\")\n",
    "elif c == 1:\n",
    "   print(\"Fibonacci sequence upto\",nterms,\":\")\n",
    "   print(a)\n",
    "else:\n",
    "   print(\"Fibonacci sequence:\")\n",
    "   while n < c:\n",
    "        print(a)\n",
    "        temp = a + b\n",
    "        a = b\n",
    "        b = temp\n",
    "        n += 1\n",
    "        "
   ]
  },
  {
   "cell_type": "code",
   "execution_count": 3,
   "id": "9f01eee3",
   "metadata": {},
   "outputs": [],
   "source": [
    "#2. Python Program for How to check if a given number is Fibonacci number?"
   ]
  },
  {
   "cell_type": "code",
   "execution_count": 4,
   "id": "05a72a53",
   "metadata": {},
   "outputs": [],
   "source": [
    "def fib_num(n):\n",
    "    n = int(input(\"Fibonacci number \"))\n",
    "    a, b = 0, 1  \n",
    "    while b<n:\n",
    "        c=a+b\n",
    "        a=b\n",
    "        b=c\n",
    "    if b==n or a==n:\n",
    "        return True\n",
    "    if b>n:\n",
    "        return False\n",
    "    "
   ]
  },
  {
   "cell_type": "code",
   "execution_count": 5,
   "id": "0aa59aff",
   "metadata": {},
   "outputs": [
    {
     "name": "stdout",
     "output_type": "stream",
     "text": [
      "Fibonacci number 10\n"
     ]
    },
    {
     "data": {
      "text/plain": [
       "False"
      ]
     },
     "execution_count": 5,
     "metadata": {},
     "output_type": "execute_result"
    }
   ],
   "source": [
    "fib_num(13)"
   ]
  },
  {
   "cell_type": "code",
   "execution_count": 6,
   "id": "5b96cb91",
   "metadata": {},
   "outputs": [],
   "source": [
    "#3. Python Program for n\\’th multiple of a number in Fibonacci Series"
   ]
  },
  {
   "cell_type": "code",
   "execution_count": 7,
   "id": "93293724",
   "metadata": {},
   "outputs": [],
   "source": [
    "#position of n\\’th multiple of a number in Fibonacci Series\n",
    "def find(k, n):\n",
    "    f1 = 0\n",
    "    f2 = 1\n",
    "    i = 2;\n",
    "    while i!=0:\n",
    "      f3 = f1 + f2;\n",
    "      f1 = f2;\n",
    "      f2 = f3;\n",
    "      if f2%k == 0:\n",
    "        return n*i\n",
    "      i+=1\n",
    "    return\n",
    " "
   ]
  },
  {
   "cell_type": "code",
   "execution_count": 8,
   "id": "9fbe8877",
   "metadata": {},
   "outputs": [
    {
     "name": "stdout",
     "output_type": "stream",
     "text": [
      "Position of 3 th multiple of 5  in Fibonacci Series is:  15\n"
     ]
    }
   ],
   "source": [
    "n = 3;\n",
    "k = 5;\n",
    "print(\"Position of\",n, \"th multiple of\",k,\" in Fibonacci Series is: \", find(k,n));"
   ]
  },
  {
   "cell_type": "code",
   "execution_count": 9,
   "id": "c788fdbd",
   "metadata": {},
   "outputs": [
    {
     "name": "stdout",
     "output_type": "stream",
     "text": [
      "610\n"
     ]
    }
   ],
   "source": [
    "#n\\’th multiple of a number in Fibonacci Series\n",
    "def fun(n,k):\n",
    "    a=1\n",
    "    b=1\n",
    "    while(n!=0):\n",
    "        temp = a+b\n",
    "        a=b\n",
    "        b=temp\n",
    "        if b%k==0:\n",
    "            n=n-1\n",
    "            ans = b\n",
    "    return ans\n",
    "print(fun(3,5))   \n",
    "            "
   ]
  },
  {
   "cell_type": "code",
   "execution_count": 10,
   "id": "9e3b501e",
   "metadata": {},
   "outputs": [],
   "source": [
    "#4. Program to print ASCII Value of a character"
   ]
  },
  {
   "cell_type": "code",
   "execution_count": 11,
   "id": "dfa6ca02",
   "metadata": {},
   "outputs": [
    {
     "name": "stdout",
     "output_type": "stream",
     "text": [
      "The ASCII value of 'a' is 97\n"
     ]
    }
   ],
   "source": [
    "c = 'a'\n",
    "print(\"The ASCII value of '\" + c + \"' is\", ord(c))"
   ]
  },
  {
   "cell_type": "code",
   "execution_count": 12,
   "id": "27dfc281",
   "metadata": {},
   "outputs": [],
   "source": [
    "#5. Python Program for Sum of squares of first n natural numbers"
   ]
  },
  {
   "cell_type": "code",
   "execution_count": 13,
   "id": "49685b16",
   "metadata": {},
   "outputs": [
    {
     "name": "stdout",
     "output_type": "stream",
     "text": [
      "Enter a no.32\n",
      "Sum of squares of first 32 natural numbers 11440\n"
     ]
    }
   ],
   "source": [
    "s=0\n",
    "n=int(input('Enter a no.'))\n",
    "s=0\n",
    "for i in range(n+1):\n",
    "    s=s+i**2\n",
    "print(\"Sum of squares of first\",n,\"natural numbers\",s)"
   ]
  },
  {
   "cell_type": "code",
   "execution_count": 14,
   "id": "fd30a107",
   "metadata": {},
   "outputs": [],
   "source": [
    "#6. Python Program for cube sum of first n natural numbers"
   ]
  },
  {
   "cell_type": "code",
   "execution_count": 15,
   "id": "dceb4a56",
   "metadata": {},
   "outputs": [
    {
     "name": "stdout",
     "output_type": "stream",
     "text": [
      "Enter a no.35\n",
      "Sum of cube of first 35 natural numbers 396900\n"
     ]
    }
   ],
   "source": [
    "s=0\n",
    "n=int(input('Enter a no.'))\n",
    "s=0\n",
    "for i in range(n+1):\n",
    "    s=s+i**3\n",
    "print(\"Sum of cube of first\",n,\"natural numbers\",s)"
   ]
  },
  {
   "cell_type": "code",
   "execution_count": 16,
   "id": "a0c30b24",
   "metadata": {},
   "outputs": [],
   "source": [
    "#7. Python Program to find sum of array"
   ]
  },
  {
   "cell_type": "code",
   "execution_count": 17,
   "id": "96215a56",
   "metadata": {},
   "outputs": [
    {
     "data": {
      "text/plain": [
       "15"
      ]
     },
     "execution_count": 17,
     "metadata": {},
     "output_type": "execute_result"
    }
   ],
   "source": [
    "arr=[1,2,3,4,5]\n",
    "sum(arr)"
   ]
  },
  {
   "cell_type": "code",
   "execution_count": 18,
   "id": "076fa199",
   "metadata": {},
   "outputs": [],
   "source": [
    "#8. Python Program to find largest element in an array"
   ]
  },
  {
   "cell_type": "code",
   "execution_count": 19,
   "id": "6b12eedc",
   "metadata": {},
   "outputs": [
    {
     "data": {
      "text/plain": [
       "89"
      ]
     },
     "execution_count": 19,
     "metadata": {},
     "output_type": "execute_result"
    }
   ],
   "source": [
    "arr=[12,13,15,16,89,34,56]\n",
    "max(arr)"
   ]
  },
  {
   "cell_type": "code",
   "execution_count": 20,
   "id": "43f8195b",
   "metadata": {},
   "outputs": [],
   "source": [
    "#9. Python Program for array rotation"
   ]
  },
  {
   "cell_type": "code",
   "execution_count": 101,
   "id": "7c6bb2ca",
   "metadata": {},
   "outputs": [
    {
     "name": "stdout",
     "output_type": "stream",
     "text": [
      "enter a no by which you want to rotate 2\n",
      "[3, 4, 5, 6, 1, 2]\n"
     ]
    }
   ],
   "source": [
    "n=int(input(\"enter a no by which you want to rotate \"))\n",
    "b=[1,2,3,4,5,6]\n",
    "for i in range(0,len(b)-n):\n",
    "    temp=b[i]\n",
    "    b[i]=b[(i+n)]\n",
    "    b[(i+n)]=temp    \n",
    "print(b)"
   ]
  },
  {
   "cell_type": "code",
   "execution_count": 98,
   "id": "97cf0daa",
   "metadata": {},
   "outputs": [],
   "source": [
    "#10. Python Program for Reversal algorithm for array rotation"
   ]
  },
  {
   "cell_type": "code",
   "execution_count": 100,
   "id": "cee67744",
   "metadata": {},
   "outputs": [
    {
     "name": "stdout",
     "output_type": "stream",
     "text": [
      "[6, 5, 4, 3, 2, 1]\n"
     ]
    }
   ],
   "source": [
    "b=[1,2,3,4,5,6]\n",
    "for i in range(0,int(len(b)/2)):\n",
    "    temp=b[i]\n",
    "    b[i]=b[-(i+1)]\n",
    "    b[-(i+1)]=temp    \n",
    "print(b)\n"
   ]
  },
  {
   "cell_type": "code",
   "execution_count": 103,
   "id": "72de625b",
   "metadata": {},
   "outputs": [],
   "source": [
    "#11. Python Program to Split the array and add the first part to the end"
   ]
  },
  {
   "cell_type": "code",
   "execution_count": 104,
   "id": "12d89451",
   "metadata": {},
   "outputs": [
    {
     "name": "stdout",
     "output_type": "stream",
     "text": [
      "enter a no by which you want to split the array 2\n",
      "[3, 4, 5, 6, 1, 2]\n"
     ]
    }
   ],
   "source": [
    "n=int(input(\"enter a no by which you want to split the array \"))\n",
    "b=[1,2,3,4,5,6]\n",
    "for i in range(0,len(b)-n):\n",
    "    temp=b[i]\n",
    "    b[i]=b[(i+n)]\n",
    "    b[(i+n)]=temp    \n",
    "print(b)"
   ]
  }
 ],
 "metadata": {
  "kernelspec": {
   "display_name": "Python 3 (ipykernel)",
   "language": "python",
   "name": "python3"
  },
  "language_info": {
   "codemirror_mode": {
    "name": "ipython",
    "version": 3
   },
   "file_extension": ".py",
   "mimetype": "text/x-python",
   "name": "python",
   "nbconvert_exporter": "python",
   "pygments_lexer": "ipython3",
   "version": "3.9.7"
  }
 },
 "nbformat": 4,
 "nbformat_minor": 5
}
