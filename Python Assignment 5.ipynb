{
 "cells": [
  {
   "cell_type": "code",
   "execution_count": 1,
   "id": "b4fbe907",
   "metadata": {},
   "outputs": [],
   "source": [
    "#1. Python program to print all negative numbers in a range"
   ]
  },
  {
   "cell_type": "code",
   "execution_count": 29,
   "id": "d646363a",
   "metadata": {},
   "outputs": [
    {
     "name": "stdout",
     "output_type": "stream",
     "text": [
      "Enter first no. -9\n",
      "Enter second no. 10\n",
      "-9\n",
      "-8\n",
      "-7\n",
      "-6\n",
      "-5\n",
      "-4\n",
      "-3\n",
      "-2\n",
      "-1\n"
     ]
    }
   ],
   "source": [
    "n1=int(input(\"Enter first no. \"))\n",
    "n2=int(input(\"Enter second no. \"))\n",
    "for i in range(n1,n2):\n",
    "    if i < 0:\n",
    "        print(i)   \n"
   ]
  },
  {
   "cell_type": "code",
   "execution_count": null,
   "id": "1568db33",
   "metadata": {},
   "outputs": [],
   "source": [
    "#2. Remove multiple elements from a list in Python"
   ]
  },
  {
   "cell_type": "code",
   "execution_count": 30,
   "id": "4074b746",
   "metadata": {},
   "outputs": [
    {
     "data": {
      "text/plain": [
       "[1, 3, 4, 6, 65, 78]"
      ]
     },
     "execution_count": 30,
     "metadata": {},
     "output_type": "execute_result"
    }
   ],
   "source": [
    "b=[1,4,6,78,65,3,4,3,1]\n",
    "a=set(b)\n",
    "sorted(a)\n"
   ]
  },
  {
   "cell_type": "code",
   "execution_count": null,
   "id": "222fda50",
   "metadata": {},
   "outputs": [],
   "source": [
    "#3. write a Python program to Remove empty List from List"
   ]
  },
  {
   "cell_type": "code",
   "execution_count": 31,
   "id": "fba28d81",
   "metadata": {},
   "outputs": [
    {
     "data": {
      "text/plain": [
       "[1, 2, 3, 4, 5, 5, 2, 1]"
      ]
     },
     "execution_count": 31,
     "metadata": {},
     "output_type": "execute_result"
    }
   ],
   "source": [
    "d=[1,2,3,4,5,5,[],2,[],1]\n",
    "result=[i for i in d if i!=[]]\n",
    "result\n"
   ]
  },
  {
   "cell_type": "code",
   "execution_count": 15,
   "id": "beed336a",
   "metadata": {},
   "outputs": [],
   "source": [
    "#4. write a Python program to Cloning or Copying a list"
   ]
  },
  {
   "cell_type": "code",
   "execution_count": 32,
   "id": "3a55b940",
   "metadata": {},
   "outputs": [
    {
     "data": {
      "text/plain": [
       "[1, 2, 7, 4, 5, 6, 7]"
      ]
     },
     "execution_count": 32,
     "metadata": {},
     "output_type": "execute_result"
    }
   ],
   "source": [
    "list1=[1,2,3,4,5,6,7]\n",
    "list2=list1[:]\n",
    "list1[2]=7\n",
    "list1\n"
   ]
  },
  {
   "cell_type": "code",
   "execution_count": 33,
   "id": "6a2e9d51",
   "metadata": {},
   "outputs": [
    {
     "data": {
      "text/plain": [
       "[1, 2, 3, 4, 5, 6, 7]"
      ]
     },
     "execution_count": 33,
     "metadata": {},
     "output_type": "execute_result"
    }
   ],
   "source": [
    "list2"
   ]
  },
  {
   "cell_type": "code",
   "execution_count": 35,
   "id": "782a2bb9",
   "metadata": {},
   "outputs": [],
   "source": [
    "#5. write a Python program to Count occurrences of an element in a list"
   ]
  },
  {
   "cell_type": "code",
   "execution_count": 34,
   "id": "087e0bd9",
   "metadata": {},
   "outputs": [
    {
     "name": "stdout",
     "output_type": "stream",
     "text": [
      "enter a no 2\n"
     ]
    },
    {
     "data": {
      "text/plain": [
       "4"
      ]
     },
     "execution_count": 34,
     "metadata": {},
     "output_type": "execute_result"
    }
   ],
   "source": [
    "a=[1,2,3,4,7,8,6,2,3,4,2,3,2]\n",
    "n= int(input(\"enter a no \"))\n",
    "s=0\n",
    "for i in range(0,len(a)):\n",
    "    if (a[i]==n):\n",
    "        s=s+1\n",
    "s\n",
    "    "
   ]
  },
  {
   "cell_type": "code",
   "execution_count": 54,
   "id": "f31480e6",
   "metadata": {},
   "outputs": [],
   "source": [
    "#6. write a Python program to Remove empty tuples from a list"
   ]
  },
  {
   "cell_type": "code",
   "execution_count": 35,
   "id": "63b5ffe1",
   "metadata": {},
   "outputs": [
    {
     "data": {
      "text/plain": [
       "[1, 2, 3, 4, 5, 5, 2, 1]"
      ]
     },
     "execution_count": 35,
     "metadata": {},
     "output_type": "execute_result"
    }
   ],
   "source": [
    "e=[1,2,3,4,5,5,(),2,(),1]\n",
    "result=[i for i in e if i!=()]\n",
    "result"
   ]
  },
  {
   "cell_type": "code",
   "execution_count": 58,
   "id": "5847fa61",
   "metadata": {},
   "outputs": [],
   "source": [
    "#7. write a Python program to print duplicates from a list of integers"
   ]
  },
  {
   "cell_type": "code",
   "execution_count": 36,
   "id": "1ac9a3e0",
   "metadata": {},
   "outputs": [
    {
     "data": {
      "text/plain": [
       "[1, 2, 5, 9]"
      ]
     },
     "execution_count": 36,
     "metadata": {},
     "output_type": "execute_result"
    }
   ],
   "source": [
    "list = [1,2,1,2,3,4,5,1,1,2,5,6,7,8,9,9] \n",
    " \n",
    "b = []\n",
    "for a in list:       \n",
    "    n = list.count(a)\n",
    "    if n > 1: \n",
    "         if b.count(a) == 0:  \n",
    "             b.append(a)\n",
    " \n",
    "b"
   ]
  },
  {
   "cell_type": "code",
   "execution_count": 37,
   "id": "fb40cdeb",
   "metadata": {},
   "outputs": [],
   "source": [
    "#8. write a Python program to find Cumulative sum of a list\n",
    "A=[2,3,4,5,6,7,8,9,10]\n",
    "result=[(A[i]+A[i+1]) for i in range(0,len(A)-1)]"
   ]
  },
  {
   "cell_type": "code",
   "execution_count": 97,
   "id": "1cf2b7e9",
   "metadata": {},
   "outputs": [
    {
     "data": {
      "text/plain": [
       "[5, 7, 9, 11, 13, 15, 17, 19]"
      ]
     },
     "execution_count": 97,
     "metadata": {},
     "output_type": "execute_result"
    }
   ],
   "source": [
    "result"
   ]
  },
  {
   "cell_type": "code",
   "execution_count": 98,
   "id": "756c51d2",
   "metadata": {},
   "outputs": [],
   "source": [
    "#9. write a Python program to Sum of number digits in List\n"
   ]
  },
  {
   "cell_type": "code",
   "execution_count": 38,
   "id": "033b4246",
   "metadata": {},
   "outputs": [
    {
     "name": "stdout",
     "output_type": "stream",
     "text": [
      "Sum of number digits in List :  [6, 13, 17, 7]\n"
     ]
    }
   ],
   "source": [
    "f = [123, 67, 98, 34]\n",
    "g = []\n",
    "for i in f:\n",
    "    sum = 0\n",
    "    for k in str(i):\n",
    "        sum += int(k)\n",
    "    g.append(sum)\n",
    "print (\"Sum of number digits in List : \" ,str(g))"
   ]
  },
  {
   "cell_type": "code",
   "execution_count": 3,
   "id": "1ba0e0f5",
   "metadata": {},
   "outputs": [
    {
     "name": "stdout",
     "output_type": "stream",
     "text": [
      "23\n"
     ]
    }
   ],
   "source": [
    "a=1697\n",
    "sum=0\n",
    "while a>0:\n",
    "    sum=sum+(a%10)\n",
    "    a=a//10\n",
    "print(sum)"
   ]
  },
  {
   "cell_type": "code",
   "execution_count": 9,
   "id": "f01a6e4f",
   "metadata": {},
   "outputs": [
    {
     "name": "stdout",
     "output_type": "stream",
     "text": [
      "[[1, 2, 3, 4], [5, 6, 7, 8], [9]]\n"
     ]
    }
   ],
   "source": [
    "#10. write a Python program to Break a list into chunks of size N\n",
    "l = [1, 2, 3, 4, 5, 6, 7, 8, 9] \n",
    "n = 4 \n",
    "x = [l[i:i + n] for i in range(0, len(l), n)] \n",
    "print(x)"
   ]
  },
  {
   "cell_type": "code",
   "execution_count": 10,
   "id": "383855f1",
   "metadata": {},
   "outputs": [],
   "source": [
    "#11. write a Python program to Sort the values of first list using second list"
   ]
  },
  {
   "cell_type": "code",
   "execution_count": 39,
   "id": "ba4e804f",
   "metadata": {},
   "outputs": [
    {
     "name": "stdout",
     "output_type": "stream",
     "text": [
      "['A', 'C', 'D', 'K', 'O', 'X']\n"
     ]
    }
   ],
   "source": [
    "a = [\"O\",\"X\",\"A\",\"C\",\"D\",\"K\"]\n",
    "b = ['5','6','1','2','3','4']\n",
    "\n",
    "zipped_pairs = zip(b,a)\n",
    "\n",
    "c= sorted(zipped_pairs)\n",
    "\n",
    "result = [item[1] for item in c]\n",
    "\n",
    "print(result)"
   ]
  }
 ],
 "metadata": {
  "kernelspec": {
   "display_name": "Python 3 (ipykernel)",
   "language": "python",
   "name": "python3"
  },
  "language_info": {
   "codemirror_mode": {
    "name": "ipython",
    "version": 3
   },
   "file_extension": ".py",
   "mimetype": "text/x-python",
   "name": "python",
   "nbconvert_exporter": "python",
   "pygments_lexer": "ipython3",
   "version": "3.9.7"
  }
 },
 "nbformat": 4,
 "nbformat_minor": 5
}
