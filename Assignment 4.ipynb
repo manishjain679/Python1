{
 "cells": [
  {
   "cell_type": "code",
   "execution_count": 2,
   "id": "d890325c",
   "metadata": {},
   "outputs": [],
   "source": [
    "#1 .Python program to find smallest number in a list"
   ]
  },
  {
   "cell_type": "code",
   "execution_count": 6,
   "id": "796d27a4",
   "metadata": {},
   "outputs": [
    {
     "name": "stdout",
     "output_type": "stream",
     "text": [
      "smallest number in the list 123\n"
     ]
    }
   ],
   "source": [
    "#Lets assume a list\n",
    "#L=[897,652,895,564,321,456,123,684,958,957,878,880,802,524,550,651]\n",
    "L=[897,652,895,564,321,456,123,684,958,957,878,880,802,524,550,651]\n",
    "print('smallest number in the list',min(L))"
   ]
  },
  {
   "cell_type": "code",
   "execution_count": 7,
   "id": "1137d5e5",
   "metadata": {},
   "outputs": [
    {
     "name": "stdout",
     "output_type": "stream",
     "text": [
      "largest number in the list 958\n"
     ]
    }
   ],
   "source": [
    "#2. Python program to find largest number in a list\n",
    "print('largest number in the list',max(L))"
   ]
  },
  {
   "cell_type": "code",
   "execution_count": 15,
   "id": "432efcb6",
   "metadata": {},
   "outputs": [
    {
     "data": {
      "text/plain": [
       "957"
      ]
     },
     "execution_count": 15,
     "metadata": {},
     "output_type": "execute_result"
    }
   ],
   "source": [
    "#3. Python program to find second largest number in a list\n",
    "M=sorted(L)\n",
    "len(L)\n",
    "#M is the sorted form of L in asceneding order, thus 2nd last digit will be second largest number.\n",
    "M[-2]"
   ]
  },
  {
   "cell_type": "code",
   "execution_count": 22,
   "id": "364277cf",
   "metadata": {},
   "outputs": [
    {
     "name": "stdout",
     "output_type": "stream",
     "text": [
      "enter a no5\n",
      "5 Largest element are [880, 895, 897, 957, 958]\n"
     ]
    }
   ],
   "source": [
    "# Python program to find N largest elements from a list\n",
    "N=int(input('enter a no'))\n",
    "print(N,\"Largest element are\",M[-N:])"
   ]
  },
  {
   "cell_type": "code",
   "execution_count": 24,
   "id": "f936acf4",
   "metadata": {},
   "outputs": [],
   "source": [
    "#Python program to print even numbers in a list"
   ]
  },
  {
   "cell_type": "code",
   "execution_count": 31,
   "id": "7be38b97",
   "metadata": {},
   "outputs": [
    {
     "name": "stdout",
     "output_type": "stream",
     "text": [
      "even no.s are:\n",
      "456\n",
      "524\n",
      "550\n",
      "564\n",
      "652\n",
      "684\n",
      "802\n",
      "878\n",
      "880\n",
      "958\n"
     ]
    }
   ],
   "source": [
    "print('even no.s are:')\n",
    "for i in M:\n",
    "    if i%2==0:\n",
    "        print(i)"
   ]
  },
  {
   "cell_type": "code",
   "execution_count": 32,
   "id": "e3938135",
   "metadata": {},
   "outputs": [],
   "source": [
    "#Python program to print odd numbers in a List"
   ]
  },
  {
   "cell_type": "code",
   "execution_count": 43,
   "id": "162c37e9",
   "metadata": {},
   "outputs": [
    {
     "name": "stdout",
     "output_type": "stream",
     "text": [
      "odd no.s are:\n",
      "1\n",
      "3\n",
      "5\n",
      "1\n",
      "-1\n"
     ]
    }
   ],
   "source": [
    "p=[1,2,3,4,5,6,0,1,-1]\n",
    "print('odd no.s are:')\n",
    "for i in p:\n",
    "    if i%2!=0:\n",
    "        print(i)\n",
    "\n",
    "\n",
    "            "
   ]
  },
  {
   "cell_type": "code",
   "execution_count": null,
   "id": "6052b0d2",
   "metadata": {},
   "outputs": [],
   "source": [
    "#Python program to print all even numbers in a range        "
   ]
  },
  {
   "cell_type": "code",
   "execution_count": 6,
   "id": "666c8818",
   "metadata": {},
   "outputs": [
    {
     "name": "stdout",
     "output_type": "stream",
     "text": [
      "enter a no.12\n",
      "all even no. in the range (0, 12)\n",
      "0\n",
      "2\n",
      "4\n",
      "6\n",
      "8\n",
      "10\n"
     ]
    }
   ],
   "source": [
    "n=int(input(\"enter a no.\"))\n",
    "print(\"all even no. in the range\",(0,n))\n",
    "P=range(0,n)\n",
    "for i in P:\n",
    "    if i%2==0:\n",
    "        print(i)"
   ]
  },
  {
   "cell_type": "code",
   "execution_count": 8,
   "id": "700806c6",
   "metadata": {},
   "outputs": [],
   "source": [
    "#Python program to print all odd numbers in a range"
   ]
  },
  {
   "cell_type": "code",
   "execution_count": 8,
   "id": "5d418121",
   "metadata": {},
   "outputs": [
    {
     "name": "stdout",
     "output_type": "stream",
     "text": [
      "enter a no.5\n",
      "all odd no. in the range (0, 5)\n",
      "1\n",
      "3\n"
     ]
    }
   ],
   "source": [
    "n=int(input(\"enter a no.\"))\n",
    "print(\"all odd no. in the range\",(0,n))\n",
    "P=range(0,n)\n",
    "for i in P:\n",
    "    if i%2!=0:\n",
    "        print(i)\n",
    "        "
   ]
  },
  {
   "cell_type": "code",
   "execution_count": null,
   "id": "4456403f",
   "metadata": {},
   "outputs": [],
   "source": [
    "#Python program to print positive numbers in a list"
   ]
  },
  {
   "cell_type": "code",
   "execution_count": 3,
   "id": "edde1ee7",
   "metadata": {},
   "outputs": [
    {
     "name": "stdout",
     "output_type": "stream",
     "text": [
      "positive numbers in a list:\n",
      "1\n",
      "2\n",
      "3\n",
      "3\n",
      "4\n",
      "9\n",
      "8\n",
      "7\n",
      "2\n"
     ]
    }
   ],
   "source": [
    "list_1=[1,2,3,-1,-2,0,3,4,-9,-8,9,8,7,2]\n",
    "print('positive numbers in a list:')\n",
    "for i in list_1:\n",
    "    if i>0:\n",
    "        print(i)\n",
    "    "
   ]
  },
  {
   "cell_type": "code",
   "execution_count": 5,
   "id": "d292d52c",
   "metadata": {},
   "outputs": [
    {
     "name": "stdout",
     "output_type": "stream",
     "text": [
      "negative numbers in a list:\n",
      "-1\n",
      "-2\n",
      "-9\n",
      "-8\n"
     ]
    }
   ],
   "source": [
    "#Python program to print negative numbers in a list\n",
    "list_2=[1,2,3,-1,-2,0,3,4,-9,-8,9,8,7,2]\n",
    "print('negative numbers in a list:')\n",
    "for i in list_2:\n",
    "    if i<0:\n",
    "        print(i)"
   ]
  },
  {
   "cell_type": "code",
   "execution_count": null,
   "id": "79df7a25",
   "metadata": {},
   "outputs": [],
   "source": [
    "#Python program to print all positive numbers in a range"
   ]
  },
  {
   "cell_type": "code",
   "execution_count": 5,
   "id": "9de69300",
   "metadata": {},
   "outputs": [
    {
     "name": "stdout",
     "output_type": "stream",
     "text": [
      "enter a no.5\n",
      "all positive no. in the range (-5, 5)\n",
      "1\n",
      "2\n",
      "3\n",
      "4\n"
     ]
    }
   ],
   "source": [
    "n=int(input(\"enter a no.\"))\n",
    "print(\"all positive no. in the range\",(-n,n))\n",
    "for i in range(-n,n):\n",
    "    if i>0:\n",
    "        print(i)"
   ]
  },
  {
   "cell_type": "code",
   "execution_count": 4,
   "id": "2ef87862",
   "metadata": {},
   "outputs": [],
   "source": [
    "#Python program to print all negative numbers in a range"
   ]
  },
  {
   "cell_type": "code",
   "execution_count": 7,
   "id": "2ba852b3",
   "metadata": {},
   "outputs": [
    {
     "name": "stdout",
     "output_type": "stream",
     "text": [
      "all negative no. in the range (-5, 5)\n",
      "-5\n",
      "-4\n",
      "-3\n",
      "-2\n",
      "-1\n"
     ]
    }
   ],
   "source": [
    "print(\"all negative no. in the range\",(-n,n))\n",
    "for i in range(-n,n):\n",
    "    if i<0:\n",
    "        print(i)"
   ]
  }
 ],
 "metadata": {
  "kernelspec": {
   "display_name": "Python 3 (ipykernel)",
   "language": "python",
   "name": "python3"
  },
  "language_info": {
   "codemirror_mode": {
    "name": "ipython",
    "version": 3
   },
   "file_extension": ".py",
   "mimetype": "text/x-python",
   "name": "python",
   "nbconvert_exporter": "python",
   "pygments_lexer": "ipython3",
   "version": "3.9.7"
  }
 },
 "nbformat": 4,
 "nbformat_minor": 5
}
