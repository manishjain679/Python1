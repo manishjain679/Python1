{
 "cells": [
  {
   "cell_type": "code",
   "execution_count": null,
   "id": "5c17273b",
   "metadata": {},
   "outputs": [],
   "source": [
    "Q1=\"Write a Python program to find those numbers which are divisible by 7 and multiple of 5, between 1500 and 2700 (both included)\""
   ]
  },
  {
   "cell_type": "code",
   "execution_count": 9,
   "id": "0619d3f7",
   "metadata": {},
   "outputs": [
    {
     "name": "stdout",
     "output_type": "stream",
     "text": [
      "1505 1540 1575 1610 1645 1680 1715 1750 1785 1820 1855 1890 1925 1960 1995 2030 2065 2100 2135 2170 2205 2240 2275 2310 2345 2380 2415 2450 2485 2520 2555 2590 2625 2660 2695 "
     ]
    }
   ],
   "source": [
    "num=range(1500,2701)\n",
    "for i in num:\n",
    "    if (i%7==0) & (i%5==0):\n",
    "        print(i,end=\" \")\n"
   ]
  },
  {
   "cell_type": "code",
   "execution_count": null,
   "id": "12165e78",
   "metadata": {},
   "outputs": [],
   "source": [
    "Q2=\"Python program to add two numbers\""
   ]
  },
  {
   "cell_type": "code",
   "execution_count": 8,
   "id": "3b90f41d",
   "metadata": {},
   "outputs": [
    {
     "name": "stdout",
     "output_type": "stream",
     "text": [
      "enter a number5\n",
      "enter a number10\n",
      "15.0\n"
     ]
    }
   ],
   "source": [
    "num1=float(input(\"enter a number\"))\n",
    "num2=float(input(\"enter a number\"))\n",
    "final_number= num1+num2\n",
    "print(final_number)\n"
   ]
  },
  {
   "cell_type": "code",
   "execution_count": null,
   "id": "70445538",
   "metadata": {},
   "outputs": [],
   "source": [
    "Q3=\"Maximum of two numbers in Python\"   "
   ]
  },
  {
   "cell_type": "code",
   "execution_count": 7,
   "id": "188c829e",
   "metadata": {},
   "outputs": [
    {
     "name": "stdout",
     "output_type": "stream",
     "text": [
      "enter a number5\n",
      "enter a number10\n",
      "10.0 is greater\n"
     ]
    }
   ],
   "source": [
    "num1=float(input(\"enter a number\"))\n",
    "num2=float(input(\"enter a number\"))\n",
    "if num1>num2:\n",
    "    print(num1, \" is greater\")\n",
    "else:\n",
    "    print(num2, \"is greater\")"
   ]
  },
  {
   "cell_type": "code",
   "execution_count": null,
   "id": "1fbab265",
   "metadata": {},
   "outputs": [],
   "source": [
    "Q4=\"Python Program for factorial of a number\""
   ]
  },
  {
   "cell_type": "code",
   "execution_count": 6,
   "id": "532683ca",
   "metadata": {},
   "outputs": [
    {
     "name": "stdout",
     "output_type": "stream",
     "text": [
      "enter a num5\n",
      "factorial of  5 is 120\n"
     ]
    }
   ],
   "source": [
    "N=int(input(\"enter a num\"))\n",
    "a=range(1,N+1)\n",
    "p=1\n",
    "for i in a:\n",
    "    p=p*i\n",
    "print(\"factorial of \", N ,\"is\", p)"
   ]
  },
  {
   "cell_type": "code",
   "execution_count": null,
   "id": "6fb607ff",
   "metadata": {},
   "outputs": [],
   "source": [
    "Q5=\"Python Program for simple interest\""
   ]
  },
  {
   "cell_type": "code",
   "execution_count": 5,
   "id": "b217cc92",
   "metadata": {},
   "outputs": [
    {
     "name": "stdout",
     "output_type": "stream",
     "text": [
      "enter Principal value5000\n",
      "Enter rate of interest2\n",
      "enter time in years1\n",
      "simple interest for the case is 100.0\n"
     ]
    }
   ],
   "source": [
    "P=float(input(\"enter Principal value\"))\n",
    "R=float(input(\"Enter rate of interest\"))\n",
    "T=float(input(\"enter time in years\"))\n",
    "s=(P*R*T)/100\n",
    "print(\"simple interest for the case is\",s)"
   ]
  },
  {
   "cell_type": "code",
   "execution_count": null,
   "id": "f8163391",
   "metadata": {},
   "outputs": [],
   "source": [
    "Q6=\"Python Program for compound interest\""
   ]
  },
  {
   "cell_type": "code",
   "execution_count": 4,
   "id": "5943b3c9",
   "metadata": {},
   "outputs": [
    {
     "name": "stdout",
     "output_type": "stream",
     "text": [
      "enter Principal value5000\n",
      "Enter rate of interest2\n",
      "enter time in years3\n",
      "number of times interest applied per time period2\n",
      "Coumpound interest for the case is 307.600753005001\n"
     ]
    }
   ],
   "source": [
    "P=float(input(\"enter Principal value\"))\n",
    "R=float(input(\"Enter rate of interest\"))\n",
    "T=float(input(\"enter time in years\"))\n",
    "N=float(input(\"number of times interest applied per time period\"))\n",
    "C=P*((1+R/(100*N))**(N*T))-P\n",
    "print(\"Coumpound interest for the case is\",C)"
   ]
  },
  {
   "cell_type": "code",
   "execution_count": null,
   "id": "a384fa44",
   "metadata": {},
   "outputs": [],
   "source": [
    "Q7=\"Python Program to check Armstrong Number\""
   ]
  },
  {
   "cell_type": "code",
   "execution_count": 3,
   "id": "1ea3965b",
   "metadata": {},
   "outputs": [
    {
     "name": "stdout",
     "output_type": "stream",
     "text": [
      "enter a no.153\n",
      "153 is a armstrong no.\n"
     ]
    }
   ],
   "source": [
    "n=int(input(\"enter a no.\"))\n",
    "sum=0\n",
    "n1=n\n",
    "order=len(str(n))\n",
    "while(n > 0):\n",
    "    digit=n%10\n",
    "    sum=sum+digit**order\n",
    "    n=n//10\n",
    "if (n1==sum):\n",
    "    print(n1,\"is a armstrong no.\")"
   ]
  },
  {
   "cell_type": "code",
   "execution_count": null,
   "id": "ad6e9612",
   "metadata": {},
   "outputs": [],
   "source": [
    "Q8=\"Python Program for Program to find area of a circle\""
   ]
  },
  {
   "cell_type": "code",
   "execution_count": 10,
   "id": "c721ebee",
   "metadata": {},
   "outputs": [
    {
     "name": "stdout",
     "output_type": "stream",
     "text": [
      "Enter radius of circle5\n",
      "Area of circle is 78.525\n"
     ]
    }
   ],
   "source": [
    "R=float(input(\"Enter radius of circle\"))\n",
    "pi=3.141\n",
    "A=(pi)*(R)**2\n",
    "print(\"Area of circle is\",A)"
   ]
  },
  {
   "cell_type": "code",
   "execution_count": null,
   "id": "bfc9e692",
   "metadata": {},
   "outputs": [],
   "source": [
    "Q9=\"Python program to print all Prime numbers in an Interval\""
   ]
  },
  {
   "cell_type": "code",
   "execution_count": 2,
   "id": "3aca5ac4",
   "metadata": {},
   "outputs": [
    {
     "name": "stdout",
     "output_type": "stream",
     "text": [
      "enter a no.5\n",
      "enter a no.10\n",
      "5\n",
      "7\n"
     ]
    }
   ],
   "source": [
    "lower=int(input(\"enter a no.\"))\n",
    "higher=int(input(\"enter a no.\"))\n",
    "for num in range(lower, higher+1):\n",
    "    if num>1:\n",
    "        for i in range(2,num):\n",
    "            if (num%i)==0:   \n",
    "                break \n",
    "        else:\n",
    "             print(num)  "
   ]
  },
  {
   "cell_type": "code",
   "execution_count": null,
   "id": "5b78626a",
   "metadata": {},
   "outputs": [],
   "source": [
    "Q10=\"Python program to check whether a number is Prime or not\"     \n",
    "        "
   ]
  },
  {
   "cell_type": "code",
   "execution_count": 1,
   "id": "51d4e100",
   "metadata": {},
   "outputs": [
    {
     "name": "stdout",
     "output_type": "stream",
     "text": [
      "enter a no.5\n",
      "5 is not a prime no.\n"
     ]
    }
   ],
   "source": [
    "num=int(input(\"enter a no.\"))\n",
    "if num>1:\n",
    "    for i in range(2,num):\n",
    "        if (num%i)==0:\n",
    "            print(num,\"is a prime no.\")\n",
    "            break\n",
    "    else:\n",
    "            print(num,\"is not a prime no.\")"
   ]
  },
  {
   "cell_type": "code",
   "execution_count": null,
   "id": "d47c7d6c",
   "metadata": {},
   "outputs": [],
   "source": []
  }
 ],
 "metadata": {
  "kernelspec": {
   "display_name": "Python 3 (ipykernel)",
   "language": "python",
   "name": "python3"
  },
  "language_info": {
   "codemirror_mode": {
    "name": "ipython",
    "version": 3
   },
   "file_extension": ".py",
   "mimetype": "text/x-python",
   "name": "python",
   "nbconvert_exporter": "python",
   "pygments_lexer": "ipython3",
   "version": "3.9.7"
  }
 },
 "nbformat": 4,
 "nbformat_minor": 5
}
