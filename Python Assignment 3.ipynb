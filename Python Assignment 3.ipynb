{
 "cells": [
  {
   "cell_type": "code",
   "execution_count": 1,
   "id": "b5a02fd2",
   "metadata": {},
   "outputs": [],
   "source": [
    "#1. Python Program for Find reminder of array multiplication divided by n"
   ]
  },
  {
   "cell_type": "code",
   "execution_count": 24,
   "id": "0524ef9c",
   "metadata": {},
   "outputs": [],
   "source": [
    "def fun(arr, lens, n):\n",
    "   mul = 1\n",
    "   for i in range(lens):\n",
    "        mul = (mul * (arr[i]%n))%n\n",
    "   return (mul%n)\n",
    "\n",
    "arr = [100, 10, 5, 25, 35, 14]\n",
    "lens = len(arr)\n",
    "n = 3\n",
    "print( fun(arr, lens, n))"
   ]
  },
  {
   "cell_type": "code",
   "execution_count": 28,
   "id": "5e0b7350",
   "metadata": {},
   "outputs": [
    {
     "name": "stdout",
     "output_type": "stream",
     "text": [
      "2\n"
     ]
    }
   ],
   "source": [
    "arr = [100, 10, 5, 25, 35, 14]\n",
    "lens = len(arr)\n",
    "n = 3\n",
    "print( findremainder(arr, lens, n))"
   ]
  },
  {
   "cell_type": "code",
   "execution_count": 35,
   "id": "9dba0851",
   "metadata": {},
   "outputs": [],
   "source": [
    "#2. Python Program to check if given array is Monotonic"
   ]
  },
  {
   "cell_type": "code",
   "execution_count": 61,
   "id": "5e0618e9",
   "metadata": {},
   "outputs": [
    {
     "name": "stdout",
     "output_type": "stream",
     "text": [
      "True\n"
     ]
    }
   ],
   "source": [
    "def isMonotonic(A):\n",
    "  \n",
    "    return (all(A[i] <= A[i + 1] for i in range(len(A) - 1)) or\n",
    "            all(A[i] >= A[i + 1] for i in range(len(A) - 1)))\n",
    "A = [6, 5, 4, 4]\n",
    "print(isMonotonic(A))\n"
   ]
  },
  {
   "cell_type": "code",
   "execution_count": 64,
   "id": "f957f277",
   "metadata": {},
   "outputs": [
    {
     "data": {
      "text/plain": [
       "True"
      ]
     },
     "execution_count": 64,
     "metadata": {},
     "output_type": "execute_result"
    }
   ],
   "source": [
    "all(A[i] <= A[i + 1] for i in range(len(A) - 1)) or (all(A[i] >= A[i + 1] for i in range(len(A) - 1)))"
   ]
  },
  {
   "cell_type": "code",
   "execution_count": 67,
   "id": "a2a65eb0",
   "metadata": {},
   "outputs": [],
   "source": [
    "#3. Python program to interchange first and last elements in a list\n"
   ]
  },
  {
   "cell_type": "code",
   "execution_count": 70,
   "id": "3fc907e6",
   "metadata": {},
   "outputs": [
    {
     "data": {
      "text/plain": [
       "9"
      ]
     },
     "execution_count": 70,
     "metadata": {},
     "output_type": "execute_result"
    }
   ],
   "source": [
    "a=[1,3,4,6,7,9]"
   ]
  },
  {
   "cell_type": "code",
   "execution_count": 73,
   "id": "9dd1d81f",
   "metadata": {},
   "outputs": [
    {
     "data": {
      "text/plain": [
       "[9, 3, 4, 6, 7, 1]"
      ]
     },
     "execution_count": 73,
     "metadata": {},
     "output_type": "execute_result"
    }
   ],
   "source": [
    "temp=a[-1]\n",
    "a[-1]=a[0]\n",
    "a[0]=temp\n",
    "a"
   ]
  },
  {
   "cell_type": "code",
   "execution_count": 74,
   "id": "4be3dbdf",
   "metadata": {},
   "outputs": [],
   "source": [
    "#4. Python program to swap two elements in a list"
   ]
  },
  {
   "cell_type": "code",
   "execution_count": 82,
   "id": "4c780648",
   "metadata": {},
   "outputs": [],
   "source": [
    "a=[1,3,4,6,7,9]"
   ]
  },
  {
   "cell_type": "code",
   "execution_count": 84,
   "id": "03c785c4",
   "metadata": {},
   "outputs": [
    {
     "data": {
      "text/plain": [
       "[1, 3, 4, 6, 7, 9]"
      ]
     },
     "execution_count": 84,
     "metadata": {},
     "output_type": "execute_result"
    }
   ],
   "source": [
    "n1=1 # first element\n",
    "n2=3 # 2nd element\n",
    "temp=a[n1]\n",
    "a[n1]=a[n2]\n",
    "a[n2]=temp\n",
    "a #updated list after swapping"
   ]
  },
  {
   "cell_type": "code",
   "execution_count": 85,
   "id": "51fc911a",
   "metadata": {},
   "outputs": [],
   "source": [
    "#5. write a program to find length of list"
   ]
  },
  {
   "cell_type": "code",
   "execution_count": 87,
   "id": "26dbcec7",
   "metadata": {},
   "outputs": [
    {
     "data": {
      "text/plain": [
       "6"
      ]
     },
     "execution_count": 87,
     "metadata": {},
     "output_type": "execute_result"
    }
   ],
   "source": [
    "len(a)"
   ]
  },
  {
   "cell_type": "code",
   "execution_count": 88,
   "id": "d98d6575",
   "metadata": {},
   "outputs": [],
   "source": [
    "#6. write a program to check if element exists in list"
   ]
  },
  {
   "cell_type": "code",
   "execution_count": null,
   "id": "3b876031",
   "metadata": {},
   "outputs": [],
   "source": [
    "n=int(input(\"enter a no. to check if it exists in list\"))\n",
    "if n in a:\n",
    "    print(n,\"is present in the list\")\n",
    "else:\n",
    "    print(\" do not exist\")"
   ]
  },
  {
   "cell_type": "code",
   "execution_count": 2,
   "id": "602d58f6",
   "metadata": {},
   "outputs": [],
   "source": [
    "#7. write a program to clear a list in Python"
   ]
  },
  {
   "cell_type": "code",
   "execution_count": 4,
   "id": "64f6f3ff",
   "metadata": {},
   "outputs": [],
   "source": [
    "b=[1,3,4,7,5]"
   ]
  },
  {
   "cell_type": "code",
   "execution_count": 5,
   "id": "b2a27d66",
   "metadata": {},
   "outputs": [
    {
     "data": {
      "text/plain": [
       "[]"
      ]
     },
     "execution_count": 5,
     "metadata": {},
     "output_type": "execute_result"
    }
   ],
   "source": [
    "b.clear()\n",
    "b"
   ]
  },
  {
   "cell_type": "code",
   "execution_count": 11,
   "id": "b4fbf87b",
   "metadata": {},
   "outputs": [],
   "source": [
    "#8. write a program to Reversing a List"
   ]
  },
  {
   "cell_type": "code",
   "execution_count": 12,
   "id": "cb68ab11",
   "metadata": {},
   "outputs": [
    {
     "name": "stdout",
     "output_type": "stream",
     "text": [
      "[6, 5, 4, 3, 2, 1]\n"
     ]
    }
   ],
   "source": [
    "c=[1,2,3,4,5,6]\n",
    "for i in range(0,int(len(b)/2)):\n",
    "    temp=c[i]\n",
    "    c[i]=c[-(i+1)]\n",
    "    c[-(i+1)]=temp    \n",
    "print(c)\n",
    "\n",
    "    "
   ]
  },
  {
   "cell_type": "code",
   "execution_count": 13,
   "id": "2faf58ec",
   "metadata": {},
   "outputs": [],
   "source": [
    "#9. write a program to find sum of elements in list"
   ]
  },
  {
   "cell_type": "code",
   "execution_count": 17,
   "id": "a2b99039",
   "metadata": {},
   "outputs": [
    {
     "data": {
      "text/plain": [
       "21"
      ]
     },
     "execution_count": 17,
     "metadata": {},
     "output_type": "execute_result"
    }
   ],
   "source": [
    "c=[1,2,3,4,5,6]\n",
    "sum(c)"
   ]
  },
  {
   "cell_type": "code",
   "execution_count": 19,
   "id": "bf7f9c08",
   "metadata": {},
   "outputs": [],
   "source": [
    "#10. write a program to Multiply all numbers in the list"
   ]
  },
  {
   "cell_type": "code",
   "execution_count": 20,
   "id": "dffcb418",
   "metadata": {},
   "outputs": [],
   "source": [
    "d=[10,20,30,40,50]"
   ]
  },
  {
   "cell_type": "code",
   "execution_count": 22,
   "id": "c549209d",
   "metadata": {},
   "outputs": [
    {
     "data": {
      "text/plain": [
       "12000000"
      ]
     },
     "execution_count": 22,
     "metadata": {},
     "output_type": "execute_result"
    }
   ],
   "source": [
    "m=1\n",
    "for i in range(0,len(d)):\n",
    "    m=m*d[i]\n",
    "m"
   ]
  }
 ],
 "metadata": {
  "kernelspec": {
   "display_name": "Python 3 (ipykernel)",
   "language": "python",
   "name": "python3"
  },
  "language_info": {
   "codemirror_mode": {
    "name": "ipython",
    "version": 3
   },
   "file_extension": ".py",
   "mimetype": "text/x-python",
   "name": "python",
   "nbconvert_exporter": "python",
   "pygments_lexer": "ipython3",
   "version": "3.9.7"
  }
 },
 "nbformat": 4,
 "nbformat_minor": 5
}
